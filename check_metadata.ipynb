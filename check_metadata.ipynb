{
 "cells": [
  {
   "cell_type": "code",
   "execution_count": 287,
   "metadata": {},
   "outputs": [],
   "source": [
    "import pandas as pd\n",
    "import duckdb"
   ]
  },
  {
   "cell_type": "code",
   "execution_count": 289,
   "metadata": {},
   "outputs": [
    {
     "name": "stdout",
     "output_type": "stream",
     "text": [
      "Ministère de l'Intérieur, language=fr},{value=Ministro\n"
     ]
    }
   ],
   "source": [
    "import re\n",
    "\n",
    "input_string = \"[{value=Ministère de l'Intérieur, language=fr},{value=Ministro, language=local}]\"\n",
    "pattern = r'\\{value=(.*?)\\s*,\\s*language=local\\}'\n",
    "matches = re.findall(pattern, input_string)\n",
    "\n",
    "for value in matches:\n",
    "    print(value)"
   ]
  },
  {
   "cell_type": "code",
   "execution_count": 131,
   "metadata": {},
   "outputs": [],
   "source": [
    "sourcefile = \"/Users/napo/Desktop/buildings_italy.parquet\"\n",
    "outputfile = \"/Users/napo/Desktop/buildings_italy_metadata.parquet\""
   ]
  },
  {
   "cell_type": "code",
   "execution_count": 132,
   "metadata": {},
   "outputs": [],
   "source": [
    "sql = \"\"\"\n",
    "SELECT * FROM read_parquet('%s') limit 1;\n",
    "\"\"\" % (sourcefile)"
   ]
  },
  {
   "cell_type": "code",
   "execution_count": 133,
   "metadata": {},
   "outputs": [],
   "source": [
    "df = duckdb.sql(sql).to_df()"
   ]
  },
  {
   "cell_type": "code",
   "execution_count": 5,
   "metadata": {},
   "outputs": [
    {
     "data": {
      "text/plain": [
       "Index(['id', 'updatetime', 'version', 'names', 'level', 'height', 'numfloors',\n",
       "       'class', 'sources', 'bbox', 'geometry', 'filename', 'type'],\n",
       "      dtype='object')"
      ]
     },
     "execution_count": 5,
     "metadata": {},
     "output_type": "execute_result"
    }
   ],
   "source": [
    "df.columns"
   ]
  },
  {
   "cell_type": "code",
   "execution_count": 6,
   "metadata": {},
   "outputs": [
    {
     "data": {
      "text/plain": [
       "1"
      ]
     },
     "execution_count": 6,
     "metadata": {},
     "output_type": "execute_result"
    }
   ],
   "source": [
    "sql = \"\"\"\n",
    "SELECT max(len(sources)) as maxlistsize FROM read_parquet('%s');\n",
    "\"\"\" % (sourcefile)\n",
    "df = duckdb.sql(sql).to_df()\n",
    "df.maxlistsize.values[0]"
   ]
  },
  {
   "cell_type": "code",
   "execution_count": 7,
   "metadata": {},
   "outputs": [],
   "source": [
    "sql = \"\"\"\n",
    "SELECT distinct(map_keys(names)) as knames FROM read_parquet('%s');\n",
    "\"\"\" % (sourcefile)"
   ]
  },
  {
   "cell_type": "code",
   "execution_count": 35,
   "metadata": {},
   "outputs": [],
   "source": [
    "sql = \"\"\"\n",
    "SELECT\n",
    "    CASE\n",
    "        WHEN EXISTS (SELECT * FROM UNNEST(map_keys(names)) AS common_key WHERE common_key = 'common') \n",
    "             AND EXISTS (SELECT * FROM UNNEST(map_keys(element_at(names, 'common'))) AS language_key WHERE language_key = 'language')\n",
    "             AND element_at(element_at(names, 'common'), 'language') = 'local'\n",
    "        THEN element_at(element_at(names, 'common'), 'value')\n",
    "        ELSE NULL\n",
    "    END AS extracted_value\n",
    "FROM\n",
    "    read_parquet('%s') where len(names) > 3 limit 3;\n",
    "\"\"\" % (sourcefile)"
   ]
  },
  {
   "cell_type": "code",
   "execution_count": 285,
   "metadata": {},
   "outputs": [],
   "source": [
    "sql = \"\"\"\n",
    "SELECT\n",
    "    CASE\n",
    "        WHEN EXISTS (\n",
    "            SELECT 1\n",
    "            FROM UNNEST(names) AS name_map,\n",
    "                 UNNEST(name_map['common']) AS common_array\n",
    "            WHERE EXISTS (\n",
    "                SELECT 1\n",
    "                FROM json_each(common_array)\n",
    "                WHERE key = 'language' AND value = 'local'\n",
    "            )\n",
    "        )\n",
    "        THEN (\n",
    "            SELECT\n",
    "                ARRAY_AGG(json.value->>'value')\n",
    "            FROM UNNEST(names) AS name_map,\n",
    "                 UNNEST(name_map['common']) AS common_array,\n",
    "                 json_each(common_array) AS json\n",
    "            WHERE json.key = 'language' AND json.value = 'local'\n",
    "        )\n",
    "        ELSE NULL\n",
    "    END AS extracted_values\n",
    "FROM\n",
    "    read_parquet('%s')\n",
    "WHERE\n",
    "    cardinality(names) > 3\n",
    "LIMIT 3;\n",
    "\"\"\" % (sourcefile)"
   ]
  },
  {
   "cell_type": "code",
   "execution_count": 286,
   "metadata": {},
   "outputs": [
    {
     "ename": "BinderException",
     "evalue": "Binder Error: UNNEST requires a single list as input",
     "output_type": "error",
     "traceback": [
      "\u001b[0;31m---------------------------------------------------------------------------\u001b[0m",
      "\u001b[0;31mBinderException\u001b[0m                           Traceback (most recent call last)",
      "Cell \u001b[0;32mIn[286], line 1\u001b[0m\n\u001b[0;32m----> 1\u001b[0m duckdb\u001b[39m.\u001b[39;49msql(sql)\n",
      "\u001b[0;31mBinderException\u001b[0m: Binder Error: UNNEST requires a single list as input"
     ]
    }
   ],
   "source": [
    "duckdb.sql(sql)"
   ]
  },
  {
   "cell_type": "code",
   "execution_count": 183,
   "metadata": {},
   "outputs": [
    {
     "data": {
      "text/plain": [
       "┌──────────────────────────────────────────────────────────────────────────────────────────────────────────────────────┐\n",
       "│                                        flatten(element_at(\"names\", 'common'))                                        │\n",
       "│                                               map(varchar, varchar)[]                                                │\n",
       "├──────────────────────────────────────────────────────────────────────────────────────────────────────────────────────┤\n",
       "│ [{value=Ministère de l'Intérieur, language=fr}, {value=وزارة الداخلية والتنمية المحلية, language=ar}, {value=وزارة…  │\n",
       "│ [{value=Les Glaciers, language=local}]                                                                               │\n",
       "│ [{value=Ritz, language=local}]                                                                                       │\n",
       "└──────────────────────────────────────────────────────────────────────────────────────────────────────────────────────┘"
      ]
     },
     "execution_count": 183,
     "metadata": {},
     "output_type": "execute_result"
    }
   ],
   "source": [
    "duckdb.sql(sql)"
   ]
  },
  {
   "cell_type": "code",
   "execution_count": 198,
   "metadata": {},
   "outputs": [],
   "source": [
    "sql = \"\"\"\n",
    "SELECT \n",
    "    CASE\n",
    "        WHEN flatten(names['common'])is not null\n",
    "        THEN array_extract(names['common'],\"language\")\n",
    "        ELSE NULL\n",
    "    END AS extracted_value\n",
    "FROM\n",
    "    read_parquet('%s') where len(names) > 20 limit 3;\n",
    "\"\"\" % (sourcefile)"
   ]
  },
  {
   "cell_type": "code",
   "execution_count": 199,
   "metadata": {},
   "outputs": [
    {
     "ename": "BinderException",
     "evalue": "Binder Error: Referenced column \"language\" not found in FROM clause!\nCandidate bindings: \"read_parquet.names\"",
     "output_type": "error",
     "traceback": [
      "\u001b[0;31m---------------------------------------------------------------------------\u001b[0m",
      "\u001b[0;31mBinderException\u001b[0m                           Traceback (most recent call last)",
      "Cell \u001b[0;32mIn[199], line 1\u001b[0m\n\u001b[0;32m----> 1\u001b[0m duckdb\u001b[39m.\u001b[39;49msql(sql)\n",
      "\u001b[0;31mBinderException\u001b[0m: Binder Error: Referenced column \"language\" not found in FROM clause!\nCandidate bindings: \"read_parquet.names\""
     ]
    }
   ],
   "source": [
    "duckdb.sql(sql)"
   ]
  },
  {
   "cell_type": "code",
   "execution_count": 78,
   "metadata": {},
   "outputs": [],
   "source": [
    "df = duckdb.sql(sql).to_df()\n"
   ]
  },
  {
   "cell_type": "code",
   "execution_count": 9,
   "metadata": {},
   "outputs": [],
   "source": [
    "listname = []\n",
    "for idx, row in df.iterrows():\n",
    "    if len(row.knames) > 0:\n",
    "        for l in range(len(row.knames)-1):\n",
    "            listname.append(row.knames[l])"
   ]
  },
  {
   "cell_type": "code",
   "execution_count": 10,
   "metadata": {},
   "outputs": [],
   "source": [
    "sql = \"\"\"\n",
    "SELECT \n",
    "    element_at(names,'common') as cicco,\n",
    "    names['common'][1][1]['value'][1] as common_name, \n",
    "    names['common'][1][1]['language'][1] as language,\n",
    "    names['common'][1][2]['value'][1] as common_name_2, \n",
    "    names['common'][1][2]['language'][1] as language_2,\n",
    "    names['common'][1][3]['value'][1] as common_name_3, \n",
    "    names['common'][1][3]['language'][1] as language_3,\n",
    "    names['common'][1][4]['value'][1] as common_name_4, \n",
    "    names['common'][1][4]['language'][1] as language_4,\n",
    "    names['common'][1][5]['value'][1] as common_name_5, \n",
    "    names['common'][1][5]['language'][1] as language_5,\n",
    "    names['common'][1][6]['value'][1] as common_name_6, \n",
    "    names['common'][1][6]['language'][1] as language_6,\n",
    "    FROM read_parquet('%s') where language_6 is not null;\n",
    "\"\"\" % (sourcefile)"
   ]
  },
  {
   "cell_type": "code",
   "execution_count": 11,
   "metadata": {},
   "outputs": [
    {
     "data": {
      "text/plain": [
       "┌──────────────────────┬──────────────────────┬──────────┬───┬────────────┬──────────────────────┬────────────┐\n",
       "│        cicco         │     common_name      │ language │ … │ language_5 │    common_name_6     │ language_6 │\n",
       "│ map(varchar, varch…  │       varchar        │ varchar  │   │  varchar   │       varchar        │  varchar   │\n",
       "├──────────────────────┼──────────────────────┼──────────┼───┼────────────┼──────────────────────┼────────────┤\n",
       "│ [[{value=Predjama …  │ Predjama Castle      │ en       │ … │ it         │ Höhlenburg Predjama  │ de         │\n",
       "│ [[{value=Часовая б…  │ Часовая башня Свят…  │ ru       │ … │ hu         │ Horloĝturo           │ eo         │\n",
       "│ [[{value=Bazylika …  │ Bazylika św. Jana …  │ pl       │ … │ cs         │ Базилика Сан Джова…  │ ru         │\n",
       "│ [[{value=la Chiesa…  │ la Chiesa dell'Esa…  │ it       │ … │ de         │ Crkva Uzvišenja Sv…  │ local      │\n",
       "│ [[{value=Этнологич…  │ Этнологический мис…  │ ru       │ … │ en         │ Musei Vaticani       │ local      │\n",
       "│ [[{value=Хоспис Св…  │ Хоспис Св. Марты     │ ru       │ … │ de         │ Ospizio di Santa M…  │ local      │\n",
       "│ [[{value=колоннада…  │ колоннада Бернини    │ ru       │ … │ local      │ Kolonnaden von Ber…  │ de         │\n",
       "│ [[{value=Spomenik …  │ Spomenik domovini    │ hr       │ … │ nl         │ 비토리오 에마누엘…   │ ko         │\n",
       "│ [[{value=Арка Септ…  │ Арка Септіміуса Се…  │ uk       │ … │ local      │ 赛普提米-塞维鲁凯…   │ zh         │\n",
       "│ [[{value=روس کا سف…  │ روس کا سفارت خانہ    │ ur       │ … │ de         │ سفارة روسيا الاتحا…  │ ar         │\n",
       "│          ·           │         ·            │ ·        │ · │ ·          │          ·           │ ·          │\n",
       "│          ·           │         ·            │ ·        │ · │ ·          │          ·           │ ·          │\n",
       "│          ·           │         ·            │ ·        │ · │ ·          │          ·           │ ·          │\n",
       "│ [[{value=Sultan Sü…  │ Sultan Süleyman Ca…  │ tr       │ … │ en         │ Sultan-Sulejmanova…  │ bs         │\n",
       "│ [[{value=拉特朗宫,…  │ 拉特朗宫             │ zh       │ … │ cs         │ Palazzo Lateranense  │ local      │\n",
       "│ [[{value=\"King Fah…  │ \"King Fahd\" kultur…  │ hu       │ … │ bs         │ المركز الثقافي \"ال…  │ ar         │\n",
       "│ [[{value=Kaplica M…  │ Kaplica Marije For…  │ pl       │ … │ de         │ Bazilika Marije Fo…  │ local      │\n",
       "│ [[{value=Scuola de…  │ Scuola dell'infanz…  │ it       │ … │ de         │ Scuola dell'infanz…  │ local      │\n",
       "│ [[{value=Clinique …  │ Clinique Ibn Sina    │ fr       │ … │ ar         │ عيادة ابن سينا       │ local      │\n",
       "│ [[{value=Katedra N…  │ Katedra Najświętsz…  │ pl       │ … │ en         │ كاتدرائيه مريم ام …  │ arz        │\n",
       "│ [[{value=Banana, l…  │ Banana               │ sr-Latn  │ … │ bs         │ Banana               │ local      │\n",
       "│ [[{value=mauzoleum…  │ mauzoleum Habiba B…  │ pl       │ … │ ar         │ ضريح الحبيب بورقيبة  │ local      │\n",
       "│ [[{value=Museu Nac…  │ Museu Nacional do …  │ pt       │ … │ local      │ Muzeul Național Ba…  │ ro         │\n",
       "├──────────────────────┴──────────────────────┴──────────┴───┴────────────┴──────────────────────┴────────────┤\n",
       "│ 324 rows (20 shown)                                                                    13 columns (6 shown) │\n",
       "└─────────────────────────────────────────────────────────────────────────────────────────────────────────────┘"
      ]
     },
     "execution_count": 11,
     "metadata": {},
     "output_type": "execute_result"
    }
   ],
   "source": [
    "duckdb.sql(sql)"
   ]
  },
  {
   "cell_type": "code",
   "execution_count": 12,
   "metadata": {},
   "outputs": [],
   "source": [
    "df = duckdb.sql(sql).to_df()\n"
   ]
  },
  {
   "cell_type": "code",
   "execution_count": 13,
   "metadata": {},
   "outputs": [],
   "source": [
    "sql = \"\"\"\n",
    "SELECT distinct(map_keys(sources[1])) as keys FROM read_parquet('%s');\n",
    "\"\"\" % (sourcefile)"
   ]
  },
  {
   "cell_type": "code",
   "execution_count": 14,
   "metadata": {},
   "outputs": [
    {
     "data": {
      "text/plain": [
       "┌───────────────────────────────┐\n",
       "│             keys              │\n",
       "│           varchar[]           │\n",
       "├───────────────────────────────┤\n",
       "│ [dataset, property, recordId] │\n",
       "└───────────────────────────────┘"
      ]
     },
     "execution_count": 14,
     "metadata": {},
     "output_type": "execute_result"
    }
   ],
   "source": [
    "duckdb.sql(sql)"
   ]
  },
  {
   "cell_type": "code",
   "execution_count": 15,
   "metadata": {},
   "outputs": [],
   "source": [
    "sql = \"\"\"\n",
    "COPY (\n",
    "SELECT \n",
    "    id,\n",
    "    updatetime,\n",
    "    version,\n",
    "    names, \n",
    "    level, \n",
    "    height,\n",
    "    numfloors,\n",
    "    class,\n",
    "    sources[1]['dataset'][1] as dataset,\n",
    "    sources[1]['dataset'][1] as property,\n",
    "    sources[1]['dataset'][1] as recordId,\n",
    "    geometry\n",
    " FROM read_parquet('%s')\n",
    " ) TO '%s' (FORMAT PARQUET);\n",
    "\"\"\" % (sourcefile,outputfile)"
   ]
  },
  {
   "cell_type": "code",
   "execution_count": 16,
   "metadata": {},
   "outputs": [
    {
     "ename": "AttributeError",
     "evalue": "'NoneType' object has no attribute 'to_df'",
     "output_type": "error",
     "traceback": [
      "\u001b[0;31m---------------------------------------------------------------------------\u001b[0m",
      "\u001b[0;31mAttributeError\u001b[0m                            Traceback (most recent call last)",
      "Cell \u001b[0;32mIn[16], line 1\u001b[0m\n\u001b[0;32m----> 1\u001b[0m df \u001b[39m=\u001b[39m duckdb\u001b[39m.\u001b[39;49msql(sql)\u001b[39m.\u001b[39;49mto_df()\n",
      "\u001b[0;31mAttributeError\u001b[0m: 'NoneType' object has no attribute 'to_df'"
     ]
    }
   ],
   "source": [
    "df = duckdb.sql(sql).to_df()"
   ]
  }
 ],
 "metadata": {
  "kernelspec": {
   "display_name": "Python 3",
   "language": "python",
   "name": "python3"
  },
  "language_info": {
   "codemirror_mode": {
    "name": "ipython",
    "version": 3
   },
   "file_extension": ".py",
   "mimetype": "text/x-python",
   "name": "python",
   "nbconvert_exporter": "python",
   "pygments_lexer": "ipython3",
   "version": "3.11.4"
  },
  "orig_nbformat": 4
 },
 "nbformat": 4,
 "nbformat_minor": 2
}
