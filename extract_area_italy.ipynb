{
 "cells": [
  {
   "cell_type": "code",
   "execution_count": 2,
   "metadata": {},
   "outputs": [],
   "source": [
    "import geopandas as gpd\n",
    "import duckdb \n",
    "import os"
   ]
  },
  {
   "cell_type": "code",
   "execution_count": 3,
   "metadata": {},
   "outputs": [],
   "source": [
    "path_parquet_aws = \"/Users/napo/Desktop/type=building/*\"\n",
    "output_file = \"/Users/napo/Desktop/buildings_italy.parquet\""
   ]
  },
  {
   "cell_type": "code",
   "execution_count": 4,
   "metadata": {},
   "outputs": [],
   "source": [
    "italy = gpd.read_parquet(\"data\" + os.sep + \"italy.parquet\")\n",
    "bounds1km = italy.to_crs(epsg=3262).buffer(1000).to_crs(epsg=4326).bounds"
   ]
  },
  {
   "cell_type": "code",
   "execution_count": 5,
   "metadata": {},
   "outputs": [],
   "source": [
    "minx = bounds1km.minx.values[0]\n",
    "maxx = bounds1km.maxx.values[0]\n",
    "miny = bounds1km.minx.values[0]\n",
    "maxy = bounds1km.maxy.values[0]"
   ]
  },
  {
   "cell_type": "code",
   "execution_count": 6,
   "metadata": {},
   "outputs": [],
   "source": [
    "sql= \"\"\"\n",
    "COPY (\n",
    "    SELECT * \n",
    "    FROM read_parquet('%s', filename=true, hive_partitioning=1) \n",
    "         WHERE\n",
    "        bbox.minx > %s \n",
    "        and bbox.maxx < %s\n",
    "        and bbox.miny > %s\n",
    "        and bbox.maxy < %s   \n",
    ") TO '%s' (FORMAT PARQUET);\n",
    "\"\"\" % (path_parquet_aws,minx,maxx,miny,maxy,output_file)"
   ]
  },
  {
   "cell_type": "code",
   "execution_count": 7,
   "metadata": {},
   "outputs": [],
   "source": [
    "duckdb.sql(sql)"
   ]
  }
 ],
 "metadata": {
  "kernelspec": {
   "display_name": "Python 3",
   "language": "python",
   "name": "python3"
  },
  "language_info": {
   "codemirror_mode": {
    "name": "ipython",
    "version": 3
   },
   "file_extension": ".py",
   "mimetype": "text/x-python",
   "name": "python",
   "nbconvert_exporter": "python",
   "pygments_lexer": "ipython3",
   "version": "3.11.4"
  },
  "orig_nbformat": 4
 },
 "nbformat": 4,
 "nbformat_minor": 2
}
